{
 "cells": [
  {
   "cell_type": "markdown",
   "id": "f7c7eb0d",
   "metadata": {},
   "source": [
    "# LOADING LIBRARIES"
   ]
  },
  {
   "cell_type": "code",
   "execution_count": 1,
   "id": "f658fd7c",
   "metadata": {},
   "outputs": [
    {
     "name": "stdout",
     "output_type": "stream",
     "text": [
      "Jupyter environment detected. Enabling Open3D WebVisualizer.\n",
      "[Open3D INFO] WebRTC GUI backend enabled.\n",
      "[Open3D INFO] WebRTCWindowSystem: HTTP handshake server disabled.\n"
     ]
    }
   ],
   "source": [
    "import open3d as o3d\n",
    "import numpy as np\n",
    "import os\n",
    "import sys\n",
    "import matplotlib.pyplot as plt \n",
    "import meshplot as mp\n",
    "import copy\n",
    "path = r\"C:\\Users\\maths\\Downloads\\vigaentertainmentinternproblems\\MergingPointCloudData\\MergingPointCloudData\\cam_{}_{}.ply\""
   ]
  },
  {
   "cell_type": "markdown",
   "id": "6ce58015",
   "metadata": {},
   "source": [
    "# Loading Point clouds"
   ]
  },
  {
   "cell_type": "code",
   "execution_count": 2,
   "id": "22eebc0e",
   "metadata": {},
   "outputs": [],
   "source": [
    "pcd_1_2 = o3d.io.read_point_cloud(path.format(1,2))\n",
    "pcd_2_3 = o3d.io.read_point_cloud(path.format(2,3))\n",
    "pcd_3_4 = o3d.io.read_point_cloud(path.format(3,4))"
   ]
  },
  {
   "cell_type": "markdown",
   "id": "caef12dd",
   "metadata": {},
   "source": [
    "# Estimating Normals"
   ]
  },
  {
   "cell_type": "code",
   "execution_count": 3,
   "id": "2181c177",
   "metadata": {},
   "outputs": [],
   "source": [
    "voxel_size = 0.005\n",
    "radius = voxel_size *2 \n",
    "# pcd_1_2_down = pcd_1_2.voxel_down_sample(voxel_size=voxel_size)\n",
    "# pcd_2_3_down = pcd_2_3.voxel_down_sample(voxel_size=voxel_size)\n",
    "# pcd_3_4_down = pcd_3_4.voxel_down_sample(voxel_size=voxel_size)\n",
    "pcd_1_2.estimate_normals(o3d.geometry.KDTreeSearchParamHybrid(radius=radius, max_nn=30))\n",
    "pcd_2_3.estimate_normals(o3d.geometry.KDTreeSearchParamHybrid(radius=radius, max_nn=30))\n",
    "pcd_3_4.estimate_normals(o3d.geometry.KDTreeSearchParamHybrid(radius=radius, max_nn=30))"
   ]
  },
  {
   "cell_type": "code",
   "execution_count": 4,
   "id": "c14045a5",
   "metadata": {},
   "outputs": [],
   "source": [
    "# pcd_1_2 = o3d.io.read_point_cloud(r\"C:\\Users\\maths\\Downloads\\vigaentertainmentinternproblems\\MergingPointCloudData\\MergingPointCloudData\\cam_{}_{}.ply\".format(1,2))\n",
    "# pcd_1_2.estimate_normals(search_param=o3d.geometry.KDTreeSearchParamHybrid(radius=0.1, max_nn=30))\n",
    "# mesh, densities = o3d.geometry.TriangleMesh.create_from_point_cloud_poisson(pcd_1_2, depth=9)\n",
    "# o3d.visualization.draw_geometries([pcd_1_2_down,pcd_2_3_down, pcd_3_4_down])\n",
    "# o3d.visualization.draw_geometries([pcd_1_2_down])\n",
    "# o3d.visualization.draw_geometries([pcd_2_3_down])\n",
    "# o3d.visualization.draw_geometries([pcd_3_4_down])"
   ]
  },
  {
   "cell_type": "code",
   "execution_count": 5,
   "id": "824430ab",
   "metadata": {
    "scrolled": true
   },
   "outputs": [],
   "source": [
    "# print(np.asarray(pcd_1_2_down.points))"
   ]
  },
  {
   "cell_type": "code",
   "execution_count": 6,
   "id": "6ccfe972",
   "metadata": {},
   "outputs": [
    {
     "data": {
      "text/plain": [
       "((2061864, 3), (2070560, 3), (2069472, 3))"
      ]
     },
     "execution_count": 6,
     "metadata": {},
     "output_type": "execute_result"
    }
   ],
   "source": [
    "x = np.asarray(pcd_1_2.points)\n",
    "y= np.asarray(pcd_2_3.points)\n",
    "z = np.asarray(pcd_3_4.points)\n",
    "x.shape,y.shape,z.shape"
   ]
  },
  {
   "cell_type": "code",
   "execution_count": 7,
   "id": "50af10cc",
   "metadata": {},
   "outputs": [],
   "source": [
    "y = y[:len(x)]\n",
    "x = x[:len(x)]\n",
    "z = z[:len(x)]"
   ]
  },
  {
   "cell_type": "code",
   "execution_count": 8,
   "id": "4a8a8105",
   "metadata": {},
   "outputs": [],
   "source": [
    "y[:,2] = x[:,2]\n",
    "# z[:,2] = x[:,2]"
   ]
  },
  {
   "cell_type": "code",
   "execution_count": 9,
   "id": "245734db",
   "metadata": {},
   "outputs": [],
   "source": [
    "for i in range(len(x)):\n",
    "    pcd_2_3.points[i] = y[i]"
   ]
  },
  {
   "cell_type": "code",
   "execution_count": 10,
   "id": "76b9f552",
   "metadata": {},
   "outputs": [],
   "source": [
    "# pcd_1_2.estimate_normals()\n",
    "# pcd_2_3.estimate_normals()\n",
    "pcds_down = [pcd_1_2, pcd_2_3]\n",
    "o3d.visualization.draw_geometries(pcds_down)"
   ]
  },
  {
   "cell_type": "markdown",
   "id": "1f5643c7",
   "metadata": {},
   "source": [
    "# Merging 1st and 2nd Point cloud"
   ]
  },
  {
   "cell_type": "code",
   "execution_count": 55,
   "id": "be4ff3d4",
   "metadata": {},
   "outputs": [],
   "source": [
    "pcd_combined = o3d.geometry.PointCloud()\n",
    "for point_id in range(len(pcds_down)):\n",
    "    pcd_combined += pcds_down[point_id]\n",
    "o3d.io.write_point_cloud(\"combined1_2.pcd\", pcd_combined)\n",
    "o3d.visualization.draw_geometries([pcd_combined])"
   ]
  },
  {
   "cell_type": "code",
   "execution_count": 56,
   "id": "f570473e",
   "metadata": {},
   "outputs": [],
   "source": [
    "o3d.visualization.draw_geometries([pcd_combined,pcd_3_4])"
   ]
  },
  {
   "cell_type": "code",
   "execution_count": 57,
   "id": "8c6eabac",
   "metadata": {},
   "outputs": [
    {
     "data": {
      "text/plain": [
       "PointCloud with 2061864 points."
      ]
     },
     "execution_count": 57,
     "metadata": {},
     "output_type": "execute_result"
    }
   ],
   "source": [
    "pcd_1_2"
   ]
  },
  {
   "cell_type": "code",
   "execution_count": 58,
   "id": "69ff9251",
   "metadata": {},
   "outputs": [],
   "source": [
    "pcd_combined_test = o3d.geometry.PointCloud()\n",
    "pcd_combined_test.points = o3d.utility.Vector3dVector([0.5*(pcd_1_2.points[i] + pcd_2_3.points[i]) for i in range(len(pcd_1_2.points))])"
   ]
  },
  {
   "cell_type": "code",
   "execution_count": 59,
   "id": "11bcc26a",
   "metadata": {},
   "outputs": [
    {
     "data": {
      "text/plain": [
       "array([ -0.1745075,   0.497038 , -11.17796  ])"
      ]
     },
     "execution_count": 59,
     "metadata": {},
     "output_type": "execute_result"
    }
   ],
   "source": [
    "pcd_1_2.points[0] + pcd_2_3.points[0]"
   ]
  },
  {
   "cell_type": "code",
   "execution_count": 60,
   "id": "8b2ea6d6",
   "metadata": {},
   "outputs": [],
   "source": [
    "o3d.visualization.draw_geometries([pcd_combined, pcd_3_4])"
   ]
  },
  {
   "cell_type": "code",
   "execution_count": 61,
   "id": "1e51f64f",
   "metadata": {},
   "outputs": [],
   "source": [
    "pcd_3_4 = o3d.io.read_point_cloud(path.format(3,4))"
   ]
  },
  {
   "cell_type": "code",
   "execution_count": 62,
   "id": "f928416b",
   "metadata": {},
   "outputs": [],
   "source": [
    "z = np.asarray(pcd_3_4.points)"
   ]
  },
  {
   "cell_type": "code",
   "execution_count": 63,
   "id": "bbd2e41b",
   "metadata": {},
   "outputs": [],
   "source": [
    "z[:,2] = z[:,2] + 1"
   ]
  },
  {
   "cell_type": "code",
   "execution_count": 64,
   "id": "c1480851",
   "metadata": {},
   "outputs": [],
   "source": [
    "for i in range(len(z)):\n",
    "    pcd_3_4.points[i] = z[i]"
   ]
  },
  {
   "cell_type": "code",
   "execution_count": 65,
   "id": "9672e340",
   "metadata": {},
   "outputs": [],
   "source": [
    "o3d.visualization.draw_geometries([pcd_combined, pcd_3_4])"
   ]
  },
  {
   "cell_type": "markdown",
   "id": "b7af5a07",
   "metadata": {},
   "source": [
    "# Merging 3rd with the combined point cloud of 1 and 2"
   ]
  },
  {
   "cell_type": "code",
   "execution_count": 66,
   "id": "303f60d0",
   "metadata": {},
   "outputs": [],
   "source": [
    "pcd_combined_final = o3d.geometry.PointCloud()\n",
    "pcd_combined_final =  pcd_combined_final + pcd_combined + pcd_3_4\n",
    "o3d.io.write_point_cloud(\"combined1_2_3.pcd\", pcd_combined_final)\n",
    "o3d.visualization.draw_geometries([pcd_combined_final])\n",
    "pcd_combined_final.estimate_normals()"
   ]
  },
  {
   "cell_type": "code",
   "execution_count": 67,
   "id": "ff7b5e80",
   "metadata": {},
   "outputs": [],
   "source": [
    "down_sampled_final = pcd_combined_final.voxel_down_sample(0.02)\n",
    "down_sampled_final.estimate_normals()"
   ]
  },
  {
   "cell_type": "code",
   "execution_count": 68,
   "id": "8896b1ae",
   "metadata": {},
   "outputs": [],
   "source": [
    "o3d.visualization.draw_geometries([down_sampled_final])"
   ]
  },
  {
   "cell_type": "markdown",
   "id": "ae1acc6d",
   "metadata": {},
   "source": [
    "# Using Ball Pivoting for mesh (Surface reconsturction)"
   ]
  },
  {
   "cell_type": "code",
   "execution_count": 70,
   "id": "2f3eea50",
   "metadata": {},
   "outputs": [],
   "source": [
    "radii = [0.02]\n",
    "rec_mesh = o3d.geometry.TriangleMesh.create_from_point_cloud_ball_pivoting(\n",
    "    pcd_combined_final, o3d.utility.DoubleVector(radii))\n",
    "o3d.visualization.draw_geometries([rec_mesh])"
   ]
  },
  {
   "cell_type": "markdown",
   "id": "d08528f1",
   "metadata": {},
   "source": [
    "# Saving..."
   ]
  },
  {
   "cell_type": "code",
   "execution_count": 74,
   "id": "99e0a20c",
   "metadata": {},
   "outputs": [],
   "source": [
    "o3d.io.write_triangle_mesh(\"combined1_2_3_using_ball_pivot.ply\", rec_mesh)\n",
    "o3d.visualization.draw_geometries([rec_mesh])"
   ]
  },
  {
   "cell_type": "markdown",
   "id": "313f87f1",
   "metadata": {},
   "source": [
    "# Using Poisson Reconstruction for mesh (Surface reconstruction)"
   ]
  },
  {
   "cell_type": "code",
   "execution_count": 75,
   "id": "7ab21db1",
   "metadata": {},
   "outputs": [
    {
     "name": "stdout",
     "output_type": "stream",
     "text": [
      "run Poisson surface reconstruction\n",
      "[Open3D DEBUG] Input Points / Samples: 32171 / 32150\n",
      "[Open3D DEBUG] #   Got kernel density: 0.303000 (s), 880.633 (MB) / 965.984 (MB) / 3337 (MB)\n",
      "[Open3D DEBUG] #     Got normal field: 0.299 (s), 885.672 (MB) / 965.984 (MB) / 3337 (MB)\n",
      "[Open3D DEBUG] Point weight / Estimated Area: 9.681693e-05 / 3.114697e+00\n",
      "[Open3D DEBUG] #       Finalized tree: 0.564 (s), 899.34 (MB) / 965.984 (MB) / 3337 (MB)\n",
      "[Open3D DEBUG] #  Set FEM constraints: 1.22 (s), 894.566 (MB) / 965.984 (MB) / 3337 (MB)\n",
      "[Open3D DEBUG] #Set point constraints: 0.0810001 (s), 877.473 (MB) / 965.984 (MB) / 3337 (MB)\n",
      "[Open3D DEBUG] Leaf Nodes / Active Nodes / Ghost Nodes: 674465 / 299720 / 471097\n",
      "[Open3D DEBUG] Memory Usage: 877.473 MB\n",
      "[Open3D DEBUG] # Linear system solved: 0.652 (s), 905.035 (MB) / 965.984 (MB) / 3337 (MB)\n",
      "[Open3D DEBUG] Got average: 0.0209999 (s), 902.75 (MB) / 965.984 (MB) / 3337 (MB)\n",
      "[Open3D DEBUG] Iso-Value: 4.984513e-01 = 1.603568e+04 / 3.217100e+04\n",
      "[Open3D DEBUG] #          Total Solve:       5.0 (s),     966.0 (MB)\n",
      "TriangleMesh with 66518 points and 133278 triangles.\n",
      "[Open3D WARNING] GLFW Error: WGL: Failed to make context current: The handle is invalid. \n"
     ]
    }
   ],
   "source": [
    "print('run Poisson surface reconstruction')\n",
    "with o3d.utility.VerbosityContextManager(\n",
    "        o3d.utility.VerbosityLevel.Debug) as cm:\n",
    "    mesh, _ = o3d.geometry.TriangleMesh.create_from_point_cloud_poisson(\n",
    "        down_sampled_final, depth=9)\n",
    "print(mesh)\n",
    "o3d.visualization.draw_geometries([mesh])"
   ]
  },
  {
   "cell_type": "markdown",
   "id": "62836e78",
   "metadata": {},
   "source": [
    "# Saving..."
   ]
  },
  {
   "cell_type": "code",
   "execution_count": 76,
   "id": "f2db5bdc",
   "metadata": {},
   "outputs": [],
   "source": [
    "o3d.io.write_triangle_mesh(\"combined1_2_3_using_poisson.ply\", mesh)\n",
    "o3d.visualization.draw_geometries([mesh])"
   ]
  },
  {
   "cell_type": "markdown",
   "id": "301d9a9c",
   "metadata": {},
   "source": [
    "# Pairwise Registration (Not getting desired output)"
   ]
  },
  {
   "cell_type": "code",
   "execution_count": 11,
   "id": "833fb9b3",
   "metadata": {},
   "outputs": [],
   "source": [
    "# def pairwise_registration(source, target):\n",
    "#     print(\"Apply point-to-plane ICP\")\n",
    "#     icp_coarse = o3d.pipelines.registration.registration_icp(\n",
    "#         source, target, max_correspondence_distance_coarse, np.identity(4),\n",
    "#         o3d.pipelines.registration.TransformationEstimationPointToPlane())\n",
    "#     icp_fine = o3d.pipelines.registration.registration_icp(\n",
    "#         source, target, max_correspondence_distance_fine,\n",
    "#         icp_coarse.transformation,\n",
    "#         o3d.pipelines.registration.TransformationEstimationPointToPlane())\n",
    "#     transformation_icp = icp_fine.transformation\n",
    "#     information_icp = o3d.pipelines.registration.get_information_matrix_from_point_clouds(\n",
    "#         source, target, max_correspondence_distance_fine,\n",
    "#         icp_fine.transformation)\n",
    "#     return transformation_icp, information_icp\n",
    "\n",
    "\n",
    "# def full_registration(pcds, max_correspondence_distance_coarse,\n",
    "#                       max_correspondence_distance_fine):\n",
    "#     pose_graph = o3d.pipelines.registration.PoseGraph()\n",
    "#     odometry = np.identity(4)\n",
    "#     pose_graph.nodes.append(o3d.pipelines.registration.PoseGraphNode(odometry))\n",
    "#     n_pcds = len(pcds)\n",
    "#     for source_id in range(n_pcds):\n",
    "#         for target_id in range(source_id + 1, n_pcds):\n",
    "#             transformation_icp, information_icp = pairwise_registration(\n",
    "#                 pcds[source_id], pcds[target_id])\n",
    "#             print(\"Build o3d.pipelines.registration.PoseGraph\")\n",
    "#             if target_id == source_id + 1:  # odometry case\n",
    "#                 odometry = np.dot(transformation_icp, odometry)\n",
    "#                 pose_graph.nodes.append(\n",
    "#                     o3d.pipelines.registration.PoseGraphNode(\n",
    "#                         np.linalg.inv(odometry)))\n",
    "#                 pose_graph.edges.append(\n",
    "#                     o3d.pipelines.registration.PoseGraphEdge(source_id,\n",
    "#                                                              target_id,\n",
    "#                                                              transformation_icp,\n",
    "#                                                              information_icp,\n",
    "#                                                              uncertain=False))\n",
    "#             else:  # loop closure case\n",
    "#                 pose_graph.edges.append(\n",
    "#                     o3d.pipelines.registration.PoseGraphEdge(source_id,\n",
    "#                                                              target_id,\n",
    "#                                                              transformation_icp,\n",
    "#                                                              information_icp,\n",
    "#                                                              uncertain=True))\n",
    "#     return pose_graph"
   ]
  },
  {
   "cell_type": "code",
   "execution_count": 12,
   "id": "e20204ca",
   "metadata": {},
   "outputs": [],
   "source": [
    "# print(\"Full registration ...\")\n",
    "# max_correspondence_distance_coarse = voxel_size * 15\n",
    "# max_correspondence_distance_fine = voxel_size * 1.5\n",
    "# with o3d.utility.VerbosityContextManager(\n",
    "#         o3d.utility.VerbosityLevel.Debug) as cm:\n",
    "#     pose_graph = full_registration(pcds_down,\n",
    "#                                    max_correspondence_distance_coarse,\n",
    "#                                    max_correspondence_distance_fine)"
   ]
  },
  {
   "cell_type": "code",
   "execution_count": 13,
   "id": "e7da4c7d",
   "metadata": {},
   "outputs": [],
   "source": [
    "# print(\"Optimizing PoseGraph ...\")\n",
    "# option = o3d.pipelines.registration.GlobalOptimizationOption(\n",
    "#     max_correspondence_distance=max_correspondence_distance_fine,\n",
    "#     edge_prune_threshold=0.25,\n",
    "#     reference_node=0)\n",
    "# with o3d.utility.VerbosityContextManager(\n",
    "#         o3d.utility.VerbosityLevel.Debug) as cm:\n",
    "#     o3d.pipelines.registration.global_optimization(\n",
    "#         pose_graph,\n",
    "#         o3d.pipelines.registration.GlobalOptimizationLevenbergMarquardt(),\n",
    "#         o3d.pipelines.registration.GlobalOptimizationConvergenceCriteria(),\n",
    "#         option)"
   ]
  },
  {
   "cell_type": "code",
   "execution_count": 14,
   "id": "81473b17",
   "metadata": {},
   "outputs": [],
   "source": [
    "# print(\"Transform points and display\")\n",
    "# for point_id in range(len(pcds_down)):\n",
    "#     print(pose_graph.nodes[point_id].pose)\n",
    "#     pcds_down[point_id].transform(pose_graph.nodes[point_id].pose)\n",
    "# o3d.visualization.draw_geometries(pcds_down)"
   ]
  },
  {
   "cell_type": "code",
   "execution_count": null,
   "id": "6cb6cff4",
   "metadata": {},
   "outputs": [],
   "source": []
  }
 ],
 "metadata": {
  "kernelspec": {
   "display_name": "Python 3 (ipykernel)",
   "language": "python",
   "name": "python3"
  },
  "language_info": {
   "codemirror_mode": {
    "name": "ipython",
    "version": 3
   },
   "file_extension": ".py",
   "mimetype": "text/x-python",
   "name": "python",
   "nbconvert_exporter": "python",
   "pygments_lexer": "ipython3",
   "version": "3.9.7"
  }
 },
 "nbformat": 4,
 "nbformat_minor": 5
}
